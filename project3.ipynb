{
 "cells": [
  {
   "cell_type": "code",
   "execution_count": 1,
   "metadata": {},
   "outputs": [],
   "source": [
    "import numpy as np\n",
    "import matplotlib.pyplot as plt\n",
    "from tqdm import tqdm"
   ]
  },
  {
   "attachments": {},
   "cell_type": "markdown",
   "metadata": {},
   "source": [
    "Activations"
   ]
  },
  {
   "cell_type": "code",
   "execution_count": 2,
   "metadata": {},
   "outputs": [],
   "source": [
    "def sigmoid(x):\n",
    "    return 1 / (1 + np.exp(-x))\n",
    "\n",
    "def sigmoid_derivative(x):\n",
    "    return sigmoid(x) * (1 - sigmoid(x))"
   ]
  },
  {
   "cell_type": "code",
   "execution_count": 3,
   "metadata": {},
   "outputs": [],
   "source": [
    "def SSE(actual, predicted):\n",
    "    sse = np.sum(np.square(actual - predicted))\n",
    "    losses = np.square(actual - predicted)\n",
    "    std = np.std(losses)\n",
    "    return sse / len(actual), std"
   ]
  },
  {
   "attachments": {},
   "cell_type": "markdown",
   "metadata": {},
   "source": [
    "ANN Implementation"
   ]
  },
  {
   "cell_type": "code",
   "execution_count": 4,
   "metadata": {},
   "outputs": [],
   "source": [
    "class ANN:\n",
    "    def __init__(self, input_size, random_initialization, hidden_layer_size=0):\n",
    "        self.input_size = input_size\n",
    "        self.hidden_layer_size = hidden_layer_size\n",
    "        \n",
    "        if not random_initialization:\n",
    "            # Normal Xavier initialization\n",
    "            if hidden_layer_size > 0:\n",
    "                # Calculate the standard deviation for Xavier initialization\n",
    "                std_dev_hidden = np.sqrt(2.0 / (input_size + hidden_layer_size))\n",
    "                self.weights_hidden = np.random.randn(input_size, hidden_layer_size) * std_dev_hidden\n",
    "                self.bias_hidden = np.zeros(hidden_layer_size)  # Biases to zero\n",
    "\n",
    "                std_dev_output = np.sqrt(2.0 / (hidden_layer_size + 1))\n",
    "                self.weights_output = np.random.randn(hidden_layer_size, 1) * std_dev_output\n",
    "                self.bias_output = np.zeros(1)  # Biases to zero\n",
    "            else:\n",
    "                # No hidden layer\n",
    "                std_dev_output = np.sqrt(2.0 / (input_size + 1))\n",
    "                self.weights_output = np.random.randn(input_size, 1) * std_dev_output\n",
    "                self.bias_output = np.zeros(1)  # Biases to zero\n",
    "        \n",
    "        else:\n",
    "            # Random initialization\n",
    "            if hidden_layer_size > 0:\n",
    "                # Initialize weights for hidden layer and output layer\n",
    "                self.weights_hidden = np.random.randn(input_size, hidden_layer_size)\n",
    "                self.bias_hidden = np.random.randn(hidden_layer_size)\n",
    "                self.weights_output = np.random.randn(hidden_layer_size, 1)\n",
    "                self.bias_output = np.random.randn(1)\n",
    "            else:\n",
    "                # No hidden layer, direct connection from input to output\n",
    "                self.weights_output = np.random.randn(input_size, 1)\n",
    "                self.bias_output = np.random.randn(1)\n",
    "\n",
    "\n",
    "    def forward(self, x):\n",
    "        if self.hidden_layer_size > 0:\n",
    "            self.hidden_activation = sigmoid(np.dot(x, self.weights_hidden) + self.bias_hidden)\n",
    "            output = np.dot(self.hidden_activation, self.weights_output) + self.bias_output\n",
    "        else:\n",
    "            output = np.dot(x, self.weights_output) + self.bias_output\n",
    "        return output\n",
    "\n",
    "    def backward(self, x, y, output, learning_rate):\n",
    "        error = output - y\n",
    "        d_output_error = 2 * error\n",
    "\n",
    "        if self.hidden_layer_size > 0:\n",
    "            d_hidden_error = np.dot(d_output_error, self.weights_output.T) * sigmoid_derivative(np.dot(x, self.weights_hidden) + self.bias_hidden)\n",
    "            self.weights_output -= learning_rate * np.dot(self.hidden_activation.T, d_output_error)\n",
    "            self.bias_output -= learning_rate * np.sum(d_output_error, axis=0)\n",
    "            self.weights_hidden -= learning_rate * np.dot(x.T, d_hidden_error)\n",
    "            self.bias_hidden -= learning_rate * np.sum(d_hidden_error, axis=0)\n",
    "        else:\n",
    "            self.weights_output -= learning_rate * np.dot(x.T, d_output_error)\n",
    "            self.bias_output -= learning_rate * np.sum(d_output_error, axis=0)\n",
    "\n",
    "    def train(self, X, Y, epochs, learning_rate):\n",
    "        loss_history = []\n",
    "        for _ in tqdm(range(epochs)):\n",
    "            epoch_losses = []\n",
    "            for x, y in zip(X, Y):\n",
    "                output = self.forward(x.reshape(1, self.input_size))\n",
    "                self.backward(x.reshape(1, self.input_size), y, output, learning_rate)\n",
    "                epoch_losses.append(((output - y) ** 2).mean())\n",
    "            loss_history.append(np.mean(epoch_losses))\n",
    "        return loss_history\n",
    "\n",
    "    def predict(self, X):\n",
    "        predictions = []\n",
    "        for x in X:\n",
    "            predictions.append(self.forward(x.reshape(1, self.input_size))[0][0])\n",
    "        return predictions"
   ]
  },
  {
   "attachments": {},
   "cell_type": "markdown",
   "metadata": {},
   "source": [
    "Load Dataset"
   ]
  },
  {
   "cell_type": "code",
   "execution_count": 5,
   "metadata": {},
   "outputs": [],
   "source": [
    "def load_dataset(file_path):\n",
    "    data = np.loadtxt(file_path)\n",
    "    X = data[:, 0].reshape(-1, 1)\n",
    "    Y = data[:, 1]\n",
    "    return X, Y\n",
    "\n",
    "X_train, Y_train = load_dataset('./data_supervised_learning_project/train1.txt')\n",
    "X_test, Y_test = load_dataset('./data_supervised_learning_project/test1.txt')"
   ]
  },
  {
   "attachments": {},
   "cell_type": "markdown",
   "metadata": {},
   "source": [
    "Normalize Data"
   ]
  },
  {
   "cell_type": "code",
   "execution_count": 6,
   "metadata": {},
   "outputs": [],
   "source": [
    "# Calculate the mean and max using training data only\n",
    "mean_data_X_train = np.mean(X_train, axis=0)\n",
    "max_val_X_train = np.max(np.abs(X_train), axis=0)\n",
    "X_train_normal = (X_train - mean_data_X_train) / max_val_X_train\n",
    "X_test_normal = (X_test - mean_data_X_train) / max_val_X_train\n",
    "\n",
    "# Apply the same process for the outputs if necessary\n",
    "mean_data_Y_train = np.mean(Y_train, axis=0)\n",
    "max_val_Y_train = np.max(np.abs(Y_train), axis=0)\n",
    "Y_train_normal = (Y_train - mean_data_Y_train) / max_val_Y_train\n",
    "Y_test_normal = (Y_test - mean_data_Y_train) / max_val_Y_train"
   ]
  },
  {
   "attachments": {},
   "cell_type": "markdown",
   "metadata": {},
   "source": [
    "Is it sufficient to use a linear regressor?"
   ]
  },
  {
   "cell_type": "code",
   "execution_count": 21,
   "metadata": {},
   "outputs": [
    {
     "name": "stderr",
     "output_type": "stream",
     "text": [
      "100%|██████████| 10000/10000 [00:08<00:00, 1243.16it/s]\n"
     ]
    },
    {
     "data": {
      "image/png": "[encoded data removed]",
      "text/plain": [
       "<Figure size 1000x500 with 1 Axes>"
      ]
     },
     "metadata": {},
     "output_type": "display_data"
    },
    {
     "data": {
      "image/png": "[encoded data removed]",
      "text/plain": [
       "<Figure size 1000x500 with 1 Axes>"
      ]
     },
     "metadata": {},
     "output_type": "display_data"
    }
   ],
   "source": [
    "model = ANN(1, True, 0)\n",
    "loss_history = model.train(X_train_normal, Y_train_normal, 10000, 0.01)\n",
    "\n",
    "# Train\n",
    "\n",
    "train_predictions = model.predict(X_train_normal)\n",
    "\n",
    "plt.figure(figsize=(10, 5))\n",
    "plt.scatter(X_train_normal, Y_train_normal, color='blue', label='Actual')\n",
    "\n",
    "# Create a range of input points to plot a smooth curve\n",
    "X_smooth = np.linspace(X_train_normal.min(), X_train_normal.max(), 500).reshape(-1, 1)\n",
    "predictions_smooth = model.predict(X_smooth)\n",
    "train_loss, std = SSE(Y_train_normal, train_predictions)\n",
    "\n",
    "# Plot the smooth curve of predictions\n",
    "plt.plot(X_smooth, predictions_smooth, color='red', label='Predicted Curve')\n",
    "plt.title(f\"Train Data vs Predictios for Linear Regressor, Loss: {train_loss * 10**4}\")\n",
    "plt.xlabel('Input') \n",
    "plt.ylabel('Output')\n",
    "plt.legend()\n",
    "plt.show()\n",
    "\n",
    "# Test\n",
    "\n",
    "test_predictions = model.predict(X_test_normal)\n",
    "\n",
    "plt.figure(figsize=(10, 5))\n",
    "plt.scatter(X_test_normal, Y_test_normal, color='blue', label='Actual')\n",
    "\n",
    "# Create a range of input points to plot a smooth curve\n",
    "X_smooth = np.linspace(X_test_normal.min(), X_test_normal.max(), 500).reshape(-1, 1)\n",
    "predictions_smooth = model.predict(X_smooth)\n",
    "test_loss, std = SSE(Y_test_normal, test_predictions)\n",
    "\n",
    "# Plot the smooth curve of predictions\n",
    "plt.plot(X_smooth, predictions_smooth, color='red', label='Predicted Curve')\n",
    "plt.title(f\"Test Data vs Predictions for Linear Regressor, Loss: {test_loss * 10**4}\")\n",
    "plt.xlabel('Input') \n",
    "plt.ylabel('Output')\n",
    "plt.legend()\n",
    "plt.show()"
   ]
  },
  {
   "cell_type": "code",
   "execution_count": 25,
   "metadata": {},
   "outputs": [
    {
     "name": "stderr",
     "output_type": "stream",
     "text": [
      "100%|██████████| 10000/10000 [00:13<00:00, 724.54it/s]\n"
     ]
    },
    {
     "data": {
      "image/png": "[encoded data removed]",
      "text/plain": [
       "<Figure size 1000x500 with 1 Axes>"
      ]
     },
     "metadata": {},
     "output_type": "display_data"
    }
   ],
   "source": [
    "# Is 1 hidden layer sufficent?\n",
    "\n",
    "model = ANN(1, True, 2)\n",
    "loss_history = model.train(X_train_normal, Y_train_normal, 10000, 0.01)\n",
    "\n",
    "test_predictions = model.predict(X_test_normal)\n",
    "\n",
    "plt.figure(figsize=(10, 5))\n",
    "plt.scatter(X_test_normal, Y_test_normal, color='blue', label='Actual')\n",
    "\n",
    "# Create a range of input points to plot a smooth curve\n",
    "X_smooth = np.linspace(X_test_normal.min(), X_test_normal.max(), 500).reshape(-1, 1)\n",
    "predictions_smooth = model.predict(X_smooth)\n",
    "test_loss, std = SSE(Y_test_normal, test_predictions)\n",
    "\n",
    "# Plot the smooth curve of predictions\n",
    "plt.plot(X_smooth, predictions_smooth, color='red', label='Predicted Curve')\n",
    "plt.title(f\"Test Data vs Predictions for 1 Hidden Layer, Loss: {test_loss * 10**4}\")\n",
    "plt.xlabel('Input') \n",
    "plt.ylabel('Output')\n",
    "plt.legend()\n",
    "plt.show()"
   ]
  },
  {
   "cell_type": "code",
   "execution_count": 8,
   "metadata": {},
   "outputs": [],
   "source": [
    "def plot_results(X, Y, model, title):\n",
    "    plt.figure(figsize=(6, 3))\n",
    "    plt.scatter(X, Y, color='blue', label='Actual')\n",
    "    \n",
    "    # Create a range of input points to plot a smooth curve\n",
    "    X_smooth = np.linspace(X.min(), X.max(), 500).reshape(-1, 1)\n",
    "    predictions_smooth = model.predict(X_smooth)\n",
    "    \n",
    "    # Plot the smooth curve of predictions\n",
    "    plt.plot(X_smooth, predictions_smooth, color='red', label='Predicted Curve')\n",
    "    plt.title(title)\n",
    "    plt.xlabel('Input') \n",
    "    plt.ylabel('Output')\n",
    "    plt.legend()\n",
    "    plt.show()"
   ]
  },
  {
   "cell_type": "code",
   "execution_count": 9,
   "metadata": {},
   "outputs": [],
   "source": [
    "def evaluate_model(hidden_layer_size, learning_rate, epochs, random_initialization, X_train, Y_train, X_test, Y_test, plot=False, partC=False):\n",
    "    model = ANN(1, random_initialization, hidden_layer_size)\n",
    "    loss_history = model.train(X_train, Y_train, epochs, learning_rate)\n",
    "    loss_scaler = 10**4\n",
    "\n",
    "    # Calculate loss for the training set\n",
    "    train_predictions = model.predict(X_train)\n",
    "    train_loss, train_loss_std = SSE(Y_train, train_predictions)\n",
    "    train_loss*=loss_scaler\n",
    "    train_loss_std*=loss_scaler\n",
    "\n",
    "    # Calculate loss for the test set\n",
    "    test_predictions = model.predict(X_test)\n",
    "    test_loss, test_loss_std = SSE(Y_test, test_predictions)\n",
    "    test_loss*=loss_scaler\n",
    "    test_loss_std*=loss_scaler\n",
    "\n",
    "    if random_initialization is False:\n",
    "        init = \"Xavier Init\"\n",
    "    else:\n",
    "        init = \"Random Init\" \n",
    "\n",
    "    print(f\"Hidden units: {hidden_layer_size}, Learning Rate: {learning_rate}, Epochs: {epochs}, {init}\")\n",
    "    print(f\"Training Loss: {train_loss:.4f}, Training Loss Std: {train_loss_std:.4f}, Test Loss: {test_loss:.4f}, Test Loss Std: {test_loss_std:.4f}\\n\")\n",
    "\n",
    "    # Plot results\n",
    "    if (plot):\n",
    "        title = f\"LR: {learning_rate}, Epochs: {epochs}, Hidden: {hidden_layer_size}, {init}\"\n",
    "        if partC:\n",
    "            plot_results(X_train, Y_train, model, title + \" - Train\")\n",
    "        else:\n",
    "            plot_results(X_train, Y_train, model, title + \" - Train\")\n",
    "            plot_results(X_test, Y_test, model, title + \" - Test\")\n",
    "\n",
    "    return model, loss_history, train_loss, train_loss_std, test_loss, test_loss_std"
   ]
  },
  {
   "attachments": {},
   "cell_type": "markdown",
   "metadata": {},
   "source": [
    "Testing various configurations"
   ]
  },
  {
   "cell_type": "code",
   "execution_count": 10,
   "metadata": {},
   "outputs": [
    {
     "name": "stdout",
     "output_type": "stream",
     "text": [
      "Hidden Layer Size: 2\n"
     ]
    },
    {
     "name": "stderr",
     "output_type": "stream",
     "text": [
      "100%|██████████| 5000/5000 [00:07<00:00, 701.76it/s]\n"
     ]
    },
    {
     "name": "stdout",
     "output_type": "stream",
     "text": [
      "Hidden units: 2, Learning Rate: 0.001, Epochs: 5000, Xavier Init\n",
      "Training Loss: 412.1594, Training Loss Std: 552.9392, Test Loss: 553.3155, Test Loss Std: 806.0405\n",
      "\n"
     ]
    },
    {
     "name": "stderr",
     "output_type": "stream",
     "text": [
      "100%|██████████| 5000/5000 [00:06<00:00, 727.03it/s]\n"
     ]
    },
    {
     "name": "stdout",
     "output_type": "stream",
     "text": [
      "Hidden units: 2, Learning Rate: 0.001, Epochs: 5000, Random Init\n",
      "Training Loss: 412.7480, Training Loss Std: 545.3484, Test Loss: 551.6120, Test Loss Std: 817.8636\n",
      "\n"
     ]
    },
    {
     "name": "stderr",
     "output_type": "stream",
     "text": [
      "100%|██████████| 10000/10000 [00:13<00:00, 722.37it/s]\n"
     ]
    },
    {
     "name": "stdout",
     "output_type": "stream",
     "text": [
      "Hidden units: 2, Learning Rate: 0.001, Epochs: 10000, Xavier Init\n",
      "Training Loss: 385.7243, Training Loss Std: 563.5175, Test Loss: 505.1510, Test Loss Std: 789.6749\n",
      "\n"
     ]
    },
    {
     "name": "stderr",
     "output_type": "stream",
     "text": [
      "100%|██████████| 10000/10000 [00:13<00:00, 727.47it/s]\n"
     ]
    },
    {
     "name": "stdout",
     "output_type": "stream",
     "text": [
      "Hidden units: 2, Learning Rate: 0.001, Epochs: 10000, Random Init\n",
      "Training Loss: 391.7653, Training Loss Std: 572.6972, Test Loss: 515.3051, Test Loss Std: 800.0779\n",
      "\n"
     ]
    },
    {
     "name": "stderr",
     "output_type": "stream",
     "text": [
      "100%|██████████| 50000/50000 [01:08<00:00, 727.17it/s]\n"
     ]
    },
    {
     "name": "stdout",
     "output_type": "stream",
     "text": [
      "Hidden units: 2, Learning Rate: 0.001, Epochs: 50000, Xavier Init\n",
      "Training Loss: 328.7446, Training Loss Std: 482.1926, Test Loss: 414.2631, Test Loss Std: 682.6247\n",
      "\n"
     ]
    },
    {
     "name": "stderr",
     "output_type": "stream",
     "text": [
      "100%|██████████| 50000/50000 [01:08<00:00, 725.96it/s]\n"
     ]
    },
    {
     "name": "stdout",
     "output_type": "stream",
     "text": [
      "Hidden units: 2, Learning Rate: 0.001, Epochs: 50000, Random Init\n",
      "Training Loss: 302.7715, Training Loss Std: 460.7248, Test Loss: 385.8120, Test Loss Std: 650.0551\n",
      "\n"
     ]
    },
    {
     "name": "stderr",
     "output_type": "stream",
     "text": [
      "100%|██████████| 100000/100000 [02:17<00:00, 726.89it/s]\n"
     ]
    },
    {
     "name": "stdout",
     "output_type": "stream",
     "text": [
      "Hidden units: 2, Learning Rate: 0.001, Epochs: 100000, Xavier Init\n",
      "Training Loss: 120.0199, Training Loss Std: 170.9917, Test Loss: 166.7339, Test Loss Std: 265.5001\n",
      "\n"
     ]
    },
    {
     "name": "stderr",
     "output_type": "stream",
     "text": [
      "100%|██████████| 100000/100000 [02:17<00:00, 727.70it/s]\n"
     ]
    },
    {
     "name": "stdout",
     "output_type": "stream",
     "text": [
      "Hidden units: 2, Learning Rate: 0.001, Epochs: 100000, Random Init\n",
      "Training Loss: 123.1993, Training Loss Std: 175.2675, Test Loss: 170.8127, Test Loss Std: 274.7057\n",
      "\n"
     ]
    },
    {
     "name": "stderr",
     "output_type": "stream",
     "text": [
      "100%|██████████| 5000/5000 [00:06<00:00, 726.84it/s]\n"
     ]
    },
    {
     "name": "stdout",
     "output_type": "stream",
     "text": [
      "Hidden units: 2, Learning Rate: 0.01, Epochs: 5000, Xavier Init\n",
      "Training Loss: 315.7024, Training Loss Std: 469.5525, Test Loss: 404.4224, Test Loss Std: 675.5243\n",
      "\n"
     ]
    },
    {
     "name": "stderr",
     "output_type": "stream",
     "text": [
      "100%|██████████| 5000/5000 [00:06<00:00, 730.68it/s]\n"
     ]
    },
    {
     "name": "stdout",
     "output_type": "stream",
     "text": [
      "Hidden units: 2, Learning Rate: 0.01, Epochs: 5000, Random Init\n",
      "Training Loss: 357.7389, Training Loss Std: 510.4062, Test Loss: 464.9458, Test Loss Std: 754.4823\n",
      "\n"
     ]
    },
    {
     "name": "stderr",
     "output_type": "stream",
     "text": [
      "100%|██████████| 10000/10000 [00:13<00:00, 725.93it/s]\n"
     ]
    },
    {
     "name": "stdout",
     "output_type": "stream",
     "text": [
      "Hidden units: 2, Learning Rate: 0.01, Epochs: 10000, Xavier Init\n",
      "Training Loss: 182.5450, Training Loss Std: 262.8102, Test Loss: 245.0264, Test Loss Std: 414.6299\n",
      "\n"
     ]
    },
    {
     "name": "stderr",
     "output_type": "stream",
     "text": [
      "100%|██████████| 10000/10000 [00:13<00:00, 727.87it/s]\n"
     ]
    },
    {
     "name": "stdout",
     "output_type": "stream",
     "text": [
      "Hidden units: 2, Learning Rate: 0.01, Epochs: 10000, Random Init\n",
      "Training Loss: 134.9394, Training Loss Std: 183.0508, Test Loss: 178.4061, Test Loss Std: 275.8273\n",
      "\n"
     ]
    },
    {
     "name": "stderr",
     "output_type": "stream",
     "text": [
      "100%|██████████| 50000/50000 [01:08<00:00, 729.92it/s]\n"
     ]
    },
    {
     "name": "stdout",
     "output_type": "stream",
     "text": [
      "Hidden units: 2, Learning Rate: 0.01, Epochs: 50000, Xavier Init\n",
      "Training Loss: 96.7822, Training Loss Std: 139.0971, Test Loss: 114.0124, Test Loss Std: 149.3004\n",
      "\n"
     ]
    },
    {
     "name": "stderr",
     "output_type": "stream",
     "text": [
      "100%|██████████| 50000/50000 [01:08<00:00, 730.09it/s]\n"
     ]
    },
    {
     "name": "stdout",
     "output_type": "stream",
     "text": [
      "Hidden units: 2, Learning Rate: 0.01, Epochs: 50000, Random Init\n",
      "Training Loss: 95.2231, Training Loss Std: 139.3954, Test Loss: 109.8481, Test Loss Std: 140.2407\n",
      "\n"
     ]
    },
    {
     "name": "stderr",
     "output_type": "stream",
     "text": [
      "100%|██████████| 100000/100000 [02:17<00:00, 728.18it/s]\n"
     ]
    },
    {
     "name": "stdout",
     "output_type": "stream",
     "text": [
      "Hidden units: 2, Learning Rate: 0.01, Epochs: 100000, Xavier Init\n",
      "Training Loss: 94.8598, Training Loss Std: 139.9971, Test Loss: 107.7748, Test Loss Std: 134.8063\n",
      "\n"
     ]
    },
    {
     "name": "stderr",
     "output_type": "stream",
     "text": [
      "100%|██████████| 100000/100000 [02:16<00:00, 730.05it/s]\n"
     ]
    },
    {
     "name": "stdout",
     "output_type": "stream",
     "text": [
      "Hidden units: 2, Learning Rate: 0.01, Epochs: 100000, Random Init\n",
      "Training Loss: 95.1519, Training Loss Std: 137.1262, Test Loss: 109.9446, Test Loss Std: 138.3860\n",
      "\n"
     ]
    },
    {
     "name": "stderr",
     "output_type": "stream",
     "text": [
      "100%|██████████| 5000/5000 [00:06<00:00, 731.77it/s]\n"
     ]
    },
    {
     "name": "stdout",
     "output_type": "stream",
     "text": [
      "Hidden units: 2, Learning Rate: 0.1, Epochs: 5000, Xavier Init\n",
      "Training Loss: 330.4249, Training Loss Std: 609.0186, Test Loss: 514.6010, Test Loss Std: 741.5172\n",
      "\n"
     ]
    },
    {
     "name": "stderr",
     "output_type": "stream",
     "text": [
      "100%|██████████| 5000/5000 [00:06<00:00, 728.74it/s]\n"
     ]
    },
    {
     "name": "stdout",
     "output_type": "stream",
     "text": [
      "Hidden units: 2, Learning Rate: 0.1, Epochs: 5000, Random Init\n",
      "Training Loss: 331.5057, Training Loss Std: 611.0168, Test Loss: 516.2587, Test Loss Std: 743.8462\n",
      "\n"
     ]
    },
    {
     "name": "stderr",
     "output_type": "stream",
     "text": [
      "100%|██████████| 10000/10000 [00:13<00:00, 731.86it/s]\n"
     ]
    },
    {
     "name": "stdout",
     "output_type": "stream",
     "text": [
      "Hidden units: 2, Learning Rate: 0.1, Epochs: 10000, Xavier Init\n",
      "Training Loss: 329.2420, Training Loss Std: 606.8264, Test Loss: 512.7861, Test Loss Std: 738.9631\n",
      "\n"
     ]
    },
    {
     "name": "stderr",
     "output_type": "stream",
     "text": [
      "100%|██████████| 10000/10000 [00:13<00:00, 733.03it/s]\n"
     ]
    },
    {
     "name": "stdout",
     "output_type": "stream",
     "text": [
      "Hidden units: 2, Learning Rate: 0.1, Epochs: 10000, Random Init\n",
      "Training Loss: 183.5076, Training Loss Std: 255.1936, Test Loss: 256.5820, Test Loss Std: 303.8195\n",
      "\n"
     ]
    },
    {
     "name": "stderr",
     "output_type": "stream",
     "text": [
      "100%|██████████| 50000/50000 [01:08<00:00, 730.55it/s]\n"
     ]
    },
    {
     "name": "stdout",
     "output_type": "stream",
     "text": [
      "Hidden units: 2, Learning Rate: 0.1, Epochs: 50000, Xavier Init\n",
      "Training Loss: 218.7084, Training Loss Std: 334.6823, Test Loss: 322.7205, Test Loss Std: 406.4575\n",
      "\n"
     ]
    },
    {
     "name": "stderr",
     "output_type": "stream",
     "text": [
      "100%|██████████| 50000/50000 [01:08<00:00, 730.14it/s]\n"
     ]
    },
    {
     "name": "stdout",
     "output_type": "stream",
     "text": [
      "Hidden units: 2, Learning Rate: 0.1, Epochs: 50000, Random Init\n",
      "Training Loss: 218.7084, Training Loss Std: 334.6823, Test Loss: 322.7205, Test Loss Std: 406.4575\n",
      "\n"
     ]
    },
    {
     "name": "stderr",
     "output_type": "stream",
     "text": [
      "100%|██████████| 100000/100000 [02:16<00:00, 730.54it/s]\n"
     ]
    },
    {
     "name": "stdout",
     "output_type": "stream",
     "text": [
      "Hidden units: 2, Learning Rate: 0.1, Epochs: 100000, Xavier Init\n",
      "Training Loss: 476.5751, Training Loss Std: 691.0126, Test Loss: 688.7839, Test Loss Std: 1029.5920\n",
      "\n"
     ]
    },
    {
     "name": "stderr",
     "output_type": "stream",
     "text": [
      "100%|██████████| 100000/100000 [02:16<00:00, 730.05it/s]\n"
     ]
    },
    {
     "name": "stdout",
     "output_type": "stream",
     "text": [
      "Hidden units: 2, Learning Rate: 0.1, Epochs: 100000, Random Init\n",
      "Training Loss: 476.5751, Training Loss Std: 691.0126, Test Loss: 688.7839, Test Loss Std: 1029.5920\n",
      "\n",
      "Hidden Layer Size: 4\n"
     ]
    },
    {
     "name": "stderr",
     "output_type": "stream",
     "text": [
      "100%|██████████| 5000/5000 [00:06<00:00, 728.36it/s]\n"
     ]
    },
    {
     "name": "stdout",
     "output_type": "stream",
     "text": [
      "Hidden units: 4, Learning Rate: 0.001, Epochs: 5000, Xavier Init\n",
      "Training Loss: 410.1788, Training Loss Std: 589.1341, Test Loss: 545.2815, Test Loss Std: 816.2045\n",
      "\n"
     ]
    },
    {
     "name": "stderr",
     "output_type": "stream",
     "text": [
      "100%|██████████| 5000/5000 [00:06<00:00, 728.61it/s]\n"
     ]
    },
    {
     "name": "stdout",
     "output_type": "stream",
     "text": [
      "Hidden units: 4, Learning Rate: 0.001, Epochs: 5000, Random Init\n",
      "Training Loss: 397.0581, Training Loss Std: 562.1888, Test Loss: 526.8623, Test Loss Std: 801.7127\n",
      "\n"
     ]
    },
    {
     "name": "stderr",
     "output_type": "stream",
     "text": [
      "100%|██████████| 10000/10000 [00:13<00:00, 729.62it/s]\n"
     ]
    },
    {
     "name": "stdout",
     "output_type": "stream",
     "text": [
      "Hidden units: 4, Learning Rate: 0.001, Epochs: 10000, Xavier Init\n",
      "Training Loss: 393.4632, Training Loss Std: 577.8376, Test Loss: 517.2866, Test Loss Std: 805.8809\n",
      "\n"
     ]
    },
    {
     "name": "stderr",
     "output_type": "stream",
     "text": [
      "100%|██████████| 10000/10000 [00:13<00:00, 728.84it/s]\n"
     ]
    },
    {
     "name": "stdout",
     "output_type": "stream",
     "text": [
      "Hidden units: 4, Learning Rate: 0.001, Epochs: 10000, Random Init\n",
      "Training Loss: 401.6694, Training Loss Std: 598.7882, Test Loss: 526.7230, Test Loss Std: 816.0273\n",
      "\n"
     ]
    },
    {
     "name": "stderr",
     "output_type": "stream",
     "text": [
      "100%|██████████| 50000/50000 [01:08<00:00, 728.27it/s]\n"
     ]
    },
    {
     "name": "stdout",
     "output_type": "stream",
     "text": [
      "Hidden units: 4, Learning Rate: 0.001, Epochs: 50000, Xavier Init\n",
      "Training Loss: 305.3603, Training Loss Std: 431.8174, Test Loss: 384.8434, Test Loss Std: 641.4318\n",
      "\n"
     ]
    },
    {
     "name": "stderr",
     "output_type": "stream",
     "text": [
      "100%|██████████| 50000/50000 [01:08<00:00, 728.63it/s]\n"
     ]
    },
    {
     "name": "stdout",
     "output_type": "stream",
     "text": [
      "Hidden units: 4, Learning Rate: 0.001, Epochs: 50000, Random Init\n",
      "Training Loss: 103.0669, Training Loss Std: 154.4635, Test Loss: 147.2535, Test Loss Std: 236.3160\n",
      "\n"
     ]
    },
    {
     "name": "stderr",
     "output_type": "stream",
     "text": [
      "100%|██████████| 100000/100000 [02:17<00:00, 728.38it/s]\n"
     ]
    },
    {
     "name": "stdout",
     "output_type": "stream",
     "text": [
      "Hidden units: 4, Learning Rate: 0.001, Epochs: 100000, Xavier Init\n",
      "Training Loss: 61.5026, Training Loss Std: 110.1159, Test Loss: 92.0128, Test Loss Std: 140.4821\n",
      "\n"
     ]
    },
    {
     "name": "stderr",
     "output_type": "stream",
     "text": [
      "100%|██████████| 100000/100000 [02:17<00:00, 728.94it/s]\n"
     ]
    },
    {
     "name": "stdout",
     "output_type": "stream",
     "text": [
      "Hidden units: 4, Learning Rate: 0.001, Epochs: 100000, Random Init\n",
      "Training Loss: 64.0289, Training Loss Std: 111.1594, Test Loss: 99.0332, Test Loss Std: 143.9591\n",
      "\n"
     ]
    },
    {
     "name": "stderr",
     "output_type": "stream",
     "text": [
      "100%|██████████| 5000/5000 [00:06<00:00, 728.14it/s]\n"
     ]
    },
    {
     "name": "stdout",
     "output_type": "stream",
     "text": [
      "Hidden units: 4, Learning Rate: 0.01, Epochs: 5000, Xavier Init\n",
      "Training Loss: 194.3865, Training Loss Std: 252.2983, Test Loss: 245.6174, Test Loss Std: 419.3897\n",
      "\n"
     ]
    },
    {
     "name": "stderr",
     "output_type": "stream",
     "text": [
      "100%|██████████| 5000/5000 [00:06<00:00, 729.40it/s]\n"
     ]
    },
    {
     "name": "stdout",
     "output_type": "stream",
     "text": [
      "Hidden units: 4, Learning Rate: 0.01, Epochs: 5000, Random Init\n",
      "Training Loss: 80.0786, Training Loss Std: 126.5037, Test Loss: 115.1003, Test Loss Std: 163.7686\n",
      "\n"
     ]
    },
    {
     "name": "stderr",
     "output_type": "stream",
     "text": [
      "100%|██████████| 10000/10000 [00:13<00:00, 728.03it/s]\n"
     ]
    },
    {
     "name": "stdout",
     "output_type": "stream",
     "text": [
      "Hidden units: 4, Learning Rate: 0.01, Epochs: 10000, Xavier Init\n",
      "Training Loss: 62.5867, Training Loss Std: 109.9581, Test Loss: 90.8727, Test Loss Std: 138.1128\n",
      "\n"
     ]
    },
    {
     "name": "stderr",
     "output_type": "stream",
     "text": [
      "100%|██████████| 10000/10000 [00:13<00:00, 716.51it/s]\n"
     ]
    },
    {
     "name": "stdout",
     "output_type": "stream",
     "text": [
      "Hidden units: 4, Learning Rate: 0.01, Epochs: 10000, Random Init\n",
      "Training Loss: 63.3536, Training Loss Std: 110.0330, Test Loss: 93.3063, Test Loss Std: 144.1022\n",
      "\n"
     ]
    },
    {
     "name": "stderr",
     "output_type": "stream",
     "text": [
      "100%|██████████| 50000/50000 [01:09<00:00, 721.12it/s]\n"
     ]
    },
    {
     "name": "stdout",
     "output_type": "stream",
     "text": [
      "Hidden units: 4, Learning Rate: 0.01, Epochs: 50000, Xavier Init\n",
      "Training Loss: 58.3710, Training Loss Std: 100.4733, Test Loss: 82.5118, Test Loss Std: 136.9803\n",
      "\n"
     ]
    },
    {
     "name": "stderr",
     "output_type": "stream",
     "text": [
      "100%|██████████| 50000/50000 [01:08<00:00, 724.93it/s]\n"
     ]
    },
    {
     "name": "stdout",
     "output_type": "stream",
     "text": [
      "Hidden units: 4, Learning Rate: 0.01, Epochs: 50000, Random Init\n",
      "Training Loss: 58.4667, Training Loss Std: 99.2591, Test Loss: 80.6300, Test Loss Std: 135.1300\n",
      "\n"
     ]
    },
    {
     "name": "stderr",
     "output_type": "stream",
     "text": [
      "100%|██████████| 100000/100000 [02:17<00:00, 727.45it/s]\n"
     ]
    },
    {
     "name": "stdout",
     "output_type": "stream",
     "text": [
      "Hidden units: 4, Learning Rate: 0.01, Epochs: 100000, Xavier Init\n",
      "Training Loss: 56.7191, Training Loss Std: 95.0511, Test Loss: 79.0557, Test Loss Std: 139.9526\n",
      "\n"
     ]
    },
    {
     "name": "stderr",
     "output_type": "stream",
     "text": [
      "100%|██████████| 100000/100000 [02:17<00:00, 725.96it/s]\n"
     ]
    },
    {
     "name": "stdout",
     "output_type": "stream",
     "text": [
      "Hidden units: 4, Learning Rate: 0.01, Epochs: 100000, Random Init\n",
      "Training Loss: 56.0148, Training Loss Std: 93.0263, Test Loss: 81.5078, Test Loss Std: 146.3724\n",
      "\n"
     ]
    },
    {
     "name": "stderr",
     "output_type": "stream",
     "text": [
      "100%|██████████| 5000/5000 [00:06<00:00, 723.65it/s]\n"
     ]
    },
    {
     "name": "stdout",
     "output_type": "stream",
     "text": [
      "Hidden units: 4, Learning Rate: 0.1, Epochs: 5000, Xavier Init\n",
      "Training Loss: 89.6863, Training Loss Std: 143.6433, Test Loss: 138.0038, Test Loss Std: 204.1393\n",
      "\n"
     ]
    },
    {
     "name": "stderr",
     "output_type": "stream",
     "text": [
      "100%|██████████| 5000/5000 [00:06<00:00, 723.23it/s]\n"
     ]
    },
    {
     "name": "stdout",
     "output_type": "stream",
     "text": [
      "Hidden units: 4, Learning Rate: 0.1, Epochs: 5000, Random Init\n",
      "Training Loss: 93.6219, Training Loss Std: 152.1289, Test Loss: 143.9494, Test Loss Std: 211.4618\n",
      "\n"
     ]
    },
    {
     "name": "stderr",
     "output_type": "stream",
     "text": [
      "100%|██████████| 10000/10000 [00:13<00:00, 727.34it/s]\n"
     ]
    },
    {
     "name": "stdout",
     "output_type": "stream",
     "text": [
      "Hidden units: 4, Learning Rate: 0.1, Epochs: 10000, Xavier Init\n",
      "Training Loss: 363.9725, Training Loss Std: 952.2982, Test Loss: 597.9631, Test Loss Std: 1199.5470\n",
      "\n"
     ]
    },
    {
     "name": "stderr",
     "output_type": "stream",
     "text": [
      "100%|██████████| 10000/10000 [00:13<00:00, 726.48it/s]\n"
     ]
    },
    {
     "name": "stdout",
     "output_type": "stream",
     "text": [
      "Hidden units: 4, Learning Rate: 0.1, Epochs: 10000, Random Init\n",
      "Training Loss: 78.9559, Training Loss Std: 126.0290, Test Loss: 106.9261, Test Loss Std: 156.5461\n",
      "\n"
     ]
    },
    {
     "name": "stderr",
     "output_type": "stream",
     "text": [
      "100%|██████████| 50000/50000 [01:08<00:00, 727.87it/s]\n"
     ]
    },
    {
     "name": "stdout",
     "output_type": "stream",
     "text": [
      "Hidden units: 4, Learning Rate: 0.1, Epochs: 50000, Xavier Init\n",
      "Training Loss: 181.4305, Training Loss Std: 385.0879, Test Loss: 287.7346, Test Loss Std: 485.9076\n",
      "\n"
     ]
    },
    {
     "name": "stderr",
     "output_type": "stream",
     "text": [
      "100%|██████████| 50000/50000 [01:08<00:00, 726.73it/s]\n"
     ]
    },
    {
     "name": "stdout",
     "output_type": "stream",
     "text": [
      "Hidden units: 4, Learning Rate: 0.1, Epochs: 50000, Random Init\n",
      "Training Loss: 180.8697, Training Loss Std: 383.6641, Test Loss: 286.7522, Test Loss Std: 484.0716\n",
      "\n"
     ]
    },
    {
     "name": "stderr",
     "output_type": "stream",
     "text": [
      "100%|██████████| 100000/100000 [02:17<00:00, 726.77it/s]\n"
     ]
    },
    {
     "name": "stdout",
     "output_type": "stream",
     "text": [
      "Hidden units: 4, Learning Rate: 0.1, Epochs: 100000, Xavier Init\n",
      "Training Loss: 197.2434, Training Loss Std: 437.3397, Test Loss: 321.1130, Test Loss Std: 562.2705\n",
      "\n"
     ]
    },
    {
     "name": "stderr",
     "output_type": "stream",
     "text": [
      "100%|██████████| 100000/100000 [02:17<00:00, 726.79it/s]\n"
     ]
    },
    {
     "name": "stdout",
     "output_type": "stream",
     "text": [
      "Hidden units: 4, Learning Rate: 0.1, Epochs: 100000, Random Init\n",
      "Training Loss: 115.4742, Training Loss Std: 201.0678, Test Loss: 184.3037, Test Loss Std: 281.6110\n",
      "\n",
      "Hidden Layer Size: 8\n"
     ]
    },
    {
     "name": "stderr",
     "output_type": "stream",
     "text": [
      "100%|██████████| 5000/5000 [00:06<00:00, 727.17it/s]\n"
     ]
    },
    {
     "name": "stdout",
     "output_type": "stream",
     "text": [
      "Hidden units: 8, Learning Rate: 0.001, Epochs: 5000, Xavier Init\n",
      "Training Loss: 515.1828, Training Loss Std: 614.8946, Test Loss: 669.6219, Test Loss Std: 920.6695\n",
      "\n"
     ]
    },
    {
     "name": "stderr",
     "output_type": "stream",
     "text": [
      "100%|██████████| 5000/5000 [00:06<00:00, 726.84it/s]\n"
     ]
    },
    {
     "name": "stdout",
     "output_type": "stream",
     "text": [
      "Hidden units: 8, Learning Rate: 0.001, Epochs: 5000, Random Init\n",
      "Training Loss: 415.5395, Training Loss Std: 607.8198, Test Loss: 551.5912, Test Loss Std: 829.7365\n",
      "\n"
     ]
    },
    {
     "name": "stderr",
     "output_type": "stream",
     "text": [
      "100%|██████████| 10000/10000 [00:13<00:00, 726.00it/s]\n"
     ]
    },
    {
     "name": "stdout",
     "output_type": "stream",
     "text": [
      "Hidden units: 8, Learning Rate: 0.001, Epochs: 10000, Xavier Init\n",
      "Training Loss: 397.9403, Training Loss Std: 585.2679, Test Loss: 524.5997, Test Loss Std: 813.0690\n",
      "\n"
     ]
    },
    {
     "name": "stderr",
     "output_type": "stream",
     "text": [
      "100%|██████████| 10000/10000 [00:13<00:00, 726.34it/s]\n"
     ]
    },
    {
     "name": "stdout",
     "output_type": "stream",
     "text": [
      "Hidden units: 8, Learning Rate: 0.001, Epochs: 10000, Random Init\n",
      "Training Loss: 322.6396, Training Loss Std: 449.1454, Test Loss: 438.3653, Test Loss Std: 654.7598\n",
      "\n"
     ]
    },
    {
     "name": "stderr",
     "output_type": "stream",
     "text": [
      "100%|██████████| 50000/50000 [01:08<00:00, 727.52it/s]\n"
     ]
    },
    {
     "name": "stdout",
     "output_type": "stream",
     "text": [
      "Hidden units: 8, Learning Rate: 0.001, Epochs: 50000, Xavier Init\n",
      "Training Loss: 176.6475, Training Loss Std: 240.2471, Test Loss: 228.2940, Test Loss Std: 397.3063\n",
      "\n"
     ]
    },
    {
     "name": "stderr",
     "output_type": "stream",
     "text": [
      "100%|██████████| 50000/50000 [01:08<00:00, 725.87it/s]\n"
     ]
    },
    {
     "name": "stdout",
     "output_type": "stream",
     "text": [
      "Hidden units: 8, Learning Rate: 0.001, Epochs: 50000, Random Init\n",
      "Training Loss: 73.7814, Training Loss Std: 122.3860, Test Loss: 108.7633, Test Loss Std: 162.9804\n",
      "\n"
     ]
    },
    {
     "name": "stderr",
     "output_type": "stream",
     "text": [
      "100%|██████████| 100000/100000 [02:17<00:00, 727.06it/s]\n"
     ]
    },
    {
     "name": "stdout",
     "output_type": "stream",
     "text": [
      "Hidden units: 8, Learning Rate: 0.001, Epochs: 100000, Xavier Init\n",
      "Training Loss: 69.5315, Training Loss Std: 118.6536, Test Loss: 107.7179, Test Loss Std: 159.3161\n",
      "\n"
     ]
    },
    {
     "name": "stderr",
     "output_type": "stream",
     "text": [
      "100%|██████████| 100000/100000 [02:17<00:00, 726.58it/s]\n"
     ]
    },
    {
     "name": "stdout",
     "output_type": "stream",
     "text": [
      "Hidden units: 8, Learning Rate: 0.001, Epochs: 100000, Random Init\n",
      "Training Loss: 63.5054, Training Loss Std: 112.6951, Test Loss: 94.9137, Test Loss Std: 142.4783\n",
      "\n"
     ]
    },
    {
     "name": "stderr",
     "output_type": "stream",
     "text": [
      "100%|██████████| 5000/5000 [00:06<00:00, 728.01it/s]\n"
     ]
    },
    {
     "name": "stdout",
     "output_type": "stream",
     "text": [
      "Hidden units: 8, Learning Rate: 0.01, Epochs: 5000, Xavier Init\n",
      "Training Loss: 178.5341, Training Loss Std: 237.9950, Test Loss: 227.7548, Test Loss Std: 380.5726\n",
      "\n"
     ]
    },
    {
     "name": "stderr",
     "output_type": "stream",
     "text": [
      "100%|██████████| 5000/5000 [00:06<00:00, 724.83it/s]\n"
     ]
    },
    {
     "name": "stdout",
     "output_type": "stream",
     "text": [
      "Hidden units: 8, Learning Rate: 0.01, Epochs: 5000, Random Init\n",
      "Training Loss: 118.4215, Training Loss Std: 164.9357, Test Loss: 152.0796, Test Loss Std: 244.2974\n",
      "\n"
     ]
    },
    {
     "name": "stderr",
     "output_type": "stream",
     "text": [
      "100%|██████████| 10000/10000 [00:13<00:00, 729.04it/s]\n"
     ]
    },
    {
     "name": "stdout",
     "output_type": "stream",
     "text": [
      "Hidden units: 8, Learning Rate: 0.01, Epochs: 10000, Xavier Init\n",
      "Training Loss: 68.4415, Training Loss Std: 115.3482, Test Loss: 100.9625, Test Loss Std: 144.9141\n",
      "\n"
     ]
    },
    {
     "name": "stderr",
     "output_type": "stream",
     "text": [
      "100%|██████████| 10000/10000 [00:13<00:00, 729.24it/s]\n"
     ]
    },
    {
     "name": "stdout",
     "output_type": "stream",
     "text": [
      "Hidden units: 8, Learning Rate: 0.01, Epochs: 10000, Random Init\n",
      "Training Loss: 71.7360, Training Loss Std: 120.3153, Test Loss: 95.4660, Test Loss Std: 129.8733\n",
      "\n"
     ]
    },
    {
     "name": "stderr",
     "output_type": "stream",
     "text": [
      "100%|██████████| 50000/50000 [01:08<00:00, 728.19it/s]\n"
     ]
    },
    {
     "name": "stdout",
     "output_type": "stream",
     "text": [
      "Hidden units: 8, Learning Rate: 0.01, Epochs: 50000, Xavier Init\n",
      "Training Loss: 59.4494, Training Loss Std: 103.2106, Test Loss: 86.8521, Test Loss Std: 140.0675\n",
      "\n"
     ]
    },
    {
     "name": "stderr",
     "output_type": "stream",
     "text": [
      "100%|██████████| 50000/50000 [01:08<00:00, 727.10it/s]\n"
     ]
    },
    {
     "name": "stdout",
     "output_type": "stream",
     "text": [
      "Hidden units: 8, Learning Rate: 0.01, Epochs: 50000, Random Init\n",
      "Training Loss: 58.7640, Training Loss Std: 101.8283, Test Loss: 85.4450, Test Loss Std: 139.3752\n",
      "\n"
     ]
    },
    {
     "name": "stderr",
     "output_type": "stream",
     "text": [
      "100%|██████████| 100000/100000 [02:17<00:00, 726.71it/s]\n"
     ]
    },
    {
     "name": "stdout",
     "output_type": "stream",
     "text": [
      "Hidden units: 8, Learning Rate: 0.01, Epochs: 100000, Xavier Init\n",
      "Training Loss: 59.2361, Training Loss Std: 103.8926, Test Loss: 83.4955, Test Loss Std: 130.6051\n",
      "\n"
     ]
    },
    {
     "name": "stderr",
     "output_type": "stream",
     "text": [
      "100%|██████████| 100000/100000 [02:18<00:00, 723.84it/s]\n"
     ]
    },
    {
     "name": "stdout",
     "output_type": "stream",
     "text": [
      "Hidden units: 8, Learning Rate: 0.01, Epochs: 100000, Random Init\n",
      "Training Loss: 57.3877, Training Loss Std: 96.8542, Test Loss: 80.7206, Test Loss Std: 138.9845\n",
      "\n"
     ]
    },
    {
     "name": "stderr",
     "output_type": "stream",
     "text": [
      "100%|██████████| 5000/5000 [00:06<00:00, 729.24it/s]\n"
     ]
    },
    {
     "name": "stdout",
     "output_type": "stream",
     "text": [
      "Hidden units: 8, Learning Rate: 0.1, Epochs: 5000, Xavier Init\n",
      "Training Loss: 363.4465, Training Loss Std: 882.9479, Test Loss: 591.2311, Test Loss Std: 1098.2967\n",
      "\n"
     ]
    },
    {
     "name": "stderr",
     "output_type": "stream",
     "text": [
      "100%|██████████| 5000/5000 [00:06<00:00, 727.39it/s]\n"
     ]
    },
    {
     "name": "stdout",
     "output_type": "stream",
     "text": [
      "Hidden units: 8, Learning Rate: 0.1, Epochs: 5000, Random Init\n",
      "Training Loss: 164.1389, Training Loss Std: 346.0015, Test Loss: 272.0540, Test Loss Std: 443.7380\n",
      "\n"
     ]
    },
    {
     "name": "stderr",
     "output_type": "stream",
     "text": [
      "100%|██████████| 10000/10000 [00:13<00:00, 728.11it/s]\n"
     ]
    },
    {
     "name": "stdout",
     "output_type": "stream",
     "text": [
      "Hidden units: 8, Learning Rate: 0.1, Epochs: 10000, Xavier Init\n",
      "Training Loss: 324.8914, Training Loss Std: 816.7783, Test Loss: 529.6594, Test Loss Std: 1029.2423\n",
      "\n"
     ]
    },
    {
     "name": "stderr",
     "output_type": "stream",
     "text": [
      "100%|██████████| 10000/10000 [00:13<00:00, 722.71it/s]\n"
     ]
    },
    {
     "name": "stdout",
     "output_type": "stream",
     "text": [
      "Hidden units: 8, Learning Rate: 0.1, Epochs: 10000, Random Init\n",
      "Training Loss: 71.6358, Training Loss Std: 111.3284, Test Loss: 89.4601, Test Loss Std: 135.2400\n",
      "\n"
     ]
    },
    {
     "name": "stderr",
     "output_type": "stream",
     "text": [
      "100%|██████████| 50000/50000 [01:08<00:00, 726.80it/s]\n"
     ]
    },
    {
     "name": "stdout",
     "output_type": "stream",
     "text": [
      "Hidden units: 8, Learning Rate: 0.1, Epochs: 50000, Xavier Init\n",
      "Training Loss: 329.1125, Training Loss Std: 835.3921, Test Loss: 532.9772, Test Loss Std: 1051.3865\n",
      "\n"
     ]
    },
    {
     "name": "stderr",
     "output_type": "stream",
     "text": [
      "100%|██████████| 50000/50000 [01:09<00:00, 724.58it/s]\n"
     ]
    },
    {
     "name": "stdout",
     "output_type": "stream",
     "text": [
      "Hidden units: 8, Learning Rate: 0.1, Epochs: 50000, Random Init\n",
      "Training Loss: 109.9494, Training Loss Std: 179.6297, Test Loss: 168.5158, Test Loss Std: 248.6252\n",
      "\n"
     ]
    },
    {
     "name": "stderr",
     "output_type": "stream",
     "text": [
      "100%|██████████| 100000/100000 [02:17<00:00, 728.19it/s]\n"
     ]
    },
    {
     "name": "stdout",
     "output_type": "stream",
     "text": [
      "Hidden units: 8, Learning Rate: 0.1, Epochs: 100000, Xavier Init\n",
      "Training Loss: 327.7010, Training Loss Std: 821.3832, Test Loss: 530.4371, Test Loss Std: 1026.0530\n",
      "\n"
     ]
    },
    {
     "name": "stderr",
     "output_type": "stream",
     "text": [
      "100%|██████████| 100000/100000 [02:17<00:00, 726.86it/s]\n"
     ]
    },
    {
     "name": "stdout",
     "output_type": "stream",
     "text": [
      "Hidden units: 8, Learning Rate: 0.1, Epochs: 100000, Random Init\n",
      "Training Loss: 77.2825, Training Loss Std: 111.6754, Test Loss: 97.6136, Test Loss Std: 144.2355\n",
      "\n",
      "Hidden Layer Size: 16\n"
     ]
    },
    {
     "name": "stderr",
     "output_type": "stream",
     "text": [
      "100%|██████████| 5000/5000 [00:06<00:00, 723.51it/s]\n"
     ]
    },
    {
     "name": "stdout",
     "output_type": "stream",
     "text": [
      "Hidden units: 16, Learning Rate: 0.001, Epochs: 5000, Xavier Init\n",
      "Training Loss: 429.6795, Training Loss Std: 579.5246, Test Loss: 575.7997, Test Loss Std: 842.5411\n",
      "\n"
     ]
    },
    {
     "name": "stderr",
     "output_type": "stream",
     "text": [
      "100%|██████████| 5000/5000 [00:06<00:00, 722.43it/s]\n"
     ]
    },
    {
     "name": "stdout",
     "output_type": "stream",
     "text": [
      "Hidden units: 16, Learning Rate: 0.001, Epochs: 5000, Random Init\n",
      "Training Loss: 419.3437, Training Loss Std: 600.1543, Test Loss: 561.5103, Test Loss Std: 823.0063\n",
      "\n"
     ]
    },
    {
     "name": "stderr",
     "output_type": "stream",
     "text": [
      "100%|██████████| 10000/10000 [00:13<00:00, 726.25it/s]\n"
     ]
    },
    {
     "name": "stdout",
     "output_type": "stream",
     "text": [
      "Hidden units: 16, Learning Rate: 0.001, Epochs: 10000, Xavier Init\n",
      "Training Loss: 407.7153, Training Loss Std: 576.3337, Test Loss: 548.5736, Test Loss Std: 799.5077\n",
      "\n"
     ]
    },
    {
     "name": "stderr",
     "output_type": "stream",
     "text": [
      "100%|██████████| 10000/10000 [00:13<00:00, 725.18it/s]\n"
     ]
    },
    {
     "name": "stdout",
     "output_type": "stream",
     "text": [
      "Hidden units: 16, Learning Rate: 0.001, Epochs: 10000, Random Init\n",
      "Training Loss: 131.9056, Training Loss Std: 191.3468, Test Loss: 189.8789, Test Loss Std: 317.9183\n",
      "\n"
     ]
    },
    {
     "name": "stderr",
     "output_type": "stream",
     "text": [
      "100%|██████████| 50000/50000 [01:09<00:00, 722.22it/s]\n"
     ]
    },
    {
     "name": "stdout",
     "output_type": "stream",
     "text": [
      "Hidden units: 16, Learning Rate: 0.001, Epochs: 50000, Xavier Init\n",
      "Training Loss: 143.5018, Training Loss Std: 200.6306, Test Loss: 197.3241, Test Loss Std: 329.8185\n",
      "\n"
     ]
    },
    {
     "name": "stderr",
     "output_type": "stream",
     "text": [
      "100%|██████████| 50000/50000 [01:09<00:00, 722.11it/s]\n"
     ]
    },
    {
     "name": "stdout",
     "output_type": "stream",
     "text": [
      "Hidden units: 16, Learning Rate: 0.001, Epochs: 50000, Random Init\n",
      "Training Loss: 77.6363, Training Loss Std: 125.6085, Test Loss: 112.9523, Test Loss Std: 165.9644\n",
      "\n"
     ]
    },
    {
     "name": "stderr",
     "output_type": "stream",
     "text": [
      "100%|██████████| 100000/100000 [02:18<00:00, 724.52it/s]\n"
     ]
    },
    {
     "name": "stdout",
     "output_type": "stream",
     "text": [
      "Hidden units: 16, Learning Rate: 0.001, Epochs: 100000, Xavier Init\n",
      "Training Loss: 67.9845, Training Loss Std: 118.5183, Test Loss: 101.5688, Test Loss Std: 153.6170\n",
      "\n"
     ]
    },
    {
     "name": "stderr",
     "output_type": "stream",
     "text": [
      "100%|██████████| 100000/100000 [02:17<00:00, 725.35it/s]\n"
     ]
    },
    {
     "name": "stdout",
     "output_type": "stream",
     "text": [
      "Hidden units: 16, Learning Rate: 0.001, Epochs: 100000, Random Init\n",
      "Training Loss: 62.9527, Training Loss Std: 113.0811, Test Loss: 94.9649, Test Loss Std: 138.4876\n",
      "\n"
     ]
    },
    {
     "name": "stderr",
     "output_type": "stream",
     "text": [
      "100%|██████████| 5000/5000 [00:06<00:00, 724.79it/s]\n"
     ]
    },
    {
     "name": "stdout",
     "output_type": "stream",
     "text": [
      "Hidden units: 16, Learning Rate: 0.01, Epochs: 5000, Xavier Init\n",
      "Training Loss: 244.3620, Training Loss Std: 330.2955, Test Loss: 310.1523, Test Loss Std: 524.5721\n",
      "\n"
     ]
    },
    {
     "name": "stderr",
     "output_type": "stream",
     "text": [
      "100%|██████████| 5000/5000 [00:06<00:00, 724.51it/s]\n"
     ]
    },
    {
     "name": "stdout",
     "output_type": "stream",
     "text": [
      "Hidden units: 16, Learning Rate: 0.01, Epochs: 5000, Random Init\n",
      "Training Loss: 75.8192, Training Loss Std: 120.2703, Test Loss: 105.0958, Test Loss Std: 138.9685\n",
      "\n"
     ]
    },
    {
     "name": "stderr",
     "output_type": "stream",
     "text": [
      "100%|██████████| 10000/10000 [00:13<00:00, 725.51it/s]\n"
     ]
    },
    {
     "name": "stdout",
     "output_type": "stream",
     "text": [
      "Hidden units: 16, Learning Rate: 0.01, Epochs: 10000, Xavier Init\n",
      "Training Loss: 83.0738, Training Loss Std: 129.5981, Test Loss: 112.0829, Test Loss Std: 155.6684\n",
      "\n"
     ]
    },
    {
     "name": "stderr",
     "output_type": "stream",
     "text": [
      "100%|██████████| 10000/10000 [00:13<00:00, 723.00it/s]\n"
     ]
    },
    {
     "name": "stdout",
     "output_type": "stream",
     "text": [
      "Hidden units: 16, Learning Rate: 0.01, Epochs: 10000, Random Init\n",
      "Training Loss: 75.9630, Training Loss Std: 121.3812, Test Loss: 104.4277, Test Loss Std: 133.7033\n",
      "\n"
     ]
    },
    {
     "name": "stderr",
     "output_type": "stream",
     "text": [
      "100%|██████████| 50000/50000 [01:09<00:00, 723.44it/s]\n"
     ]
    },
    {
     "name": "stdout",
     "output_type": "stream",
     "text": [
      "Hidden units: 16, Learning Rate: 0.01, Epochs: 50000, Xavier Init\n",
      "Training Loss: 61.6491, Training Loss Std: 106.8369, Test Loss: 84.9635, Test Loss Std: 127.7575\n",
      "\n"
     ]
    },
    {
     "name": "stderr",
     "output_type": "stream",
     "text": [
      "100%|██████████| 50000/50000 [01:09<00:00, 720.72it/s]\n"
     ]
    },
    {
     "name": "stdout",
     "output_type": "stream",
     "text": [
      "Hidden units: 16, Learning Rate: 0.01, Epochs: 50000, Random Init\n",
      "Training Loss: 61.3748, Training Loss Std: 104.1045, Test Loss: 82.8931, Test Loss Std: 129.3740\n",
      "\n"
     ]
    },
    {
     "name": "stderr",
     "output_type": "stream",
     "text": [
      "100%|██████████| 100000/100000 [02:18<00:00, 723.34it/s]\n"
     ]
    },
    {
     "name": "stdout",
     "output_type": "stream",
     "text": [
      "Hidden units: 16, Learning Rate: 0.01, Epochs: 100000, Xavier Init\n",
      "Training Loss: 58.4790, Training Loss Std: 102.9457, Test Loss: 87.0384, Test Loss Std: 134.8500\n",
      "\n"
     ]
    },
    {
     "name": "stderr",
     "output_type": "stream",
     "text": [
      "100%|██████████| 100000/100000 [02:18<00:00, 723.62it/s]\n"
     ]
    },
    {
     "name": "stdout",
     "output_type": "stream",
     "text": [
      "Hidden units: 16, Learning Rate: 0.01, Epochs: 100000, Random Init\n",
      "Training Loss: 56.3926, Training Loss Std: 93.7428, Test Loss: 79.8119, Test Loss Std: 142.9512\n",
      "\n"
     ]
    },
    {
     "name": "stderr",
     "output_type": "stream",
     "text": [
      "100%|██████████| 5000/5000 [00:07<00:00, 702.08it/s]\n"
     ]
    },
    {
     "name": "stdout",
     "output_type": "stream",
     "text": [
      "Hidden units: 16, Learning Rate: 0.1, Epochs: 5000, Xavier Init\n",
      "Training Loss: 808.5218, Training Loss Std: 2149.2700, Test Loss: 1338.9171, Test Loss Std: 2796.5691\n",
      "\n"
     ]
    },
    {
     "name": "stderr",
     "output_type": "stream",
     "text": [
      "100%|██████████| 5000/5000 [00:06<00:00, 720.55it/s]\n"
     ]
    },
    {
     "name": "stdout",
     "output_type": "stream",
     "text": [
      "Hidden units: 16, Learning Rate: 0.1, Epochs: 5000, Random Init\n",
      "Training Loss: 79.1119, Training Loss Std: 127.3035, Test Loss: 97.6531, Test Loss Std: 134.8407\n",
      "\n"
     ]
    },
    {
     "name": "stderr",
     "output_type": "stream",
     "text": [
      "100%|██████████| 10000/10000 [00:13<00:00, 724.99it/s]\n"
     ]
    },
    {
     "name": "stdout",
     "output_type": "stream",
     "text": [
      "Hidden units: 16, Learning Rate: 0.1, Epochs: 10000, Xavier Init\n",
      "Training Loss: 391.1636, Training Loss Std: 973.7708, Test Loss: 647.3272, Test Loss Std: 1266.2433\n",
      "\n"
     ]
    },
    {
     "name": "stderr",
     "output_type": "stream",
     "text": [
      "100%|██████████| 10000/10000 [00:13<00:00, 723.94it/s]\n"
     ]
    },
    {
     "name": "stdout",
     "output_type": "stream",
     "text": [
      "Hidden units: 16, Learning Rate: 0.1, Epochs: 10000, Random Init\n",
      "Training Loss: 106.0238, Training Loss Std: 178.3090, Test Loss: 162.4094, Test Loss Std: 238.0771\n",
      "\n"
     ]
    },
    {
     "name": "stderr",
     "output_type": "stream",
     "text": [
      "100%|██████████| 50000/50000 [01:08<00:00, 726.95it/s]\n"
     ]
    },
    {
     "name": "stdout",
     "output_type": "stream",
     "text": [
      "Hidden units: 16, Learning Rate: 0.1, Epochs: 50000, Xavier Init\n",
      "Training Loss: 329.6984, Training Loss Std: 826.2345, Test Loss: 531.8598, Test Loss Std: 1033.6843\n",
      "\n"
     ]
    },
    {
     "name": "stderr",
     "output_type": "stream",
     "text": [
      "100%|██████████| 50000/50000 [01:09<00:00, 722.02it/s]\n"
     ]
    },
    {
     "name": "stdout",
     "output_type": "stream",
     "text": [
      "Hidden units: 16, Learning Rate: 0.1, Epochs: 50000, Random Init\n",
      "Training Loss: 75.9932, Training Loss Std: 119.4442, Test Loss: 86.4672, Test Loss Std: 119.3233\n",
      "\n"
     ]
    },
    {
     "name": "stderr",
     "output_type": "stream",
     "text": [
      "100%|██████████| 100000/100000 [02:18<00:00, 723.80it/s]\n"
     ]
    },
    {
     "name": "stdout",
     "output_type": "stream",
     "text": [
      "Hidden units: 16, Learning Rate: 0.1, Epochs: 100000, Xavier Init\n",
      "Training Loss: 185.2730, Training Loss Std: 397.3590, Test Loss: 296.6034, Test Loss Std: 501.1066\n",
      "\n"
     ]
    },
    {
     "name": "stderr",
     "output_type": "stream",
     "text": [
      "100%|██████████| 100000/100000 [02:17<00:00, 725.89it/s]\n"
     ]
    },
    {
     "name": "stdout",
     "output_type": "stream",
     "text": [
      "Hidden units: 16, Learning Rate: 0.1, Epochs: 100000, Random Init\n",
      "Training Loss: 70.3409, Training Loss Std: 103.5123, Test Loss: 83.5697, Test Loss Std: 135.5716\n",
      "\n",
      "Hidden Layer Size: 32\n"
     ]
    },
    {
     "name": "stderr",
     "output_type": "stream",
     "text": [
      "100%|██████████| 5000/5000 [00:06<00:00, 715.85it/s]\n"
     ]
    },
    {
     "name": "stdout",
     "output_type": "stream",
     "text": [
      "Hidden units: 32, Learning Rate: 0.001, Epochs: 5000, Xavier Init\n",
      "Training Loss: 1341.7107, Training Loss Std: 1172.7885, Test Loss: 1614.3035, Test Loss Std: 1412.5970\n",
      "\n"
     ]
    },
    {
     "name": "stderr",
     "output_type": "stream",
     "text": [
      "100%|██████████| 5000/5000 [00:07<00:00, 711.35it/s]\n"
     ]
    },
    {
     "name": "stdout",
     "output_type": "stream",
     "text": [
      "Hidden units: 32, Learning Rate: 0.001, Epochs: 5000, Random Init\n",
      "Training Loss: 217.0051, Training Loss Std: 270.1332, Test Loss: 314.6050, Test Loss Std: 458.0644\n",
      "\n"
     ]
    },
    {
     "name": "stderr",
     "output_type": "stream",
     "text": [
      "100%|██████████| 10000/10000 [00:14<00:00, 713.77it/s]\n"
     ]
    },
    {
     "name": "stdout",
     "output_type": "stream",
     "text": [
      "Hidden units: 32, Learning Rate: 0.001, Epochs: 10000, Xavier Init\n",
      "Training Loss: 401.6714, Training Loss Std: 589.1891, Test Loss: 532.8879, Test Loss Std: 824.5650\n",
      "\n"
     ]
    },
    {
     "name": "stderr",
     "output_type": "stream",
     "text": [
      "100%|██████████| 10000/10000 [00:14<00:00, 702.14it/s]\n"
     ]
    },
    {
     "name": "stdout",
     "output_type": "stream",
     "text": [
      "Hidden units: 32, Learning Rate: 0.001, Epochs: 10000, Random Init\n",
      "Training Loss: 176.6470, Training Loss Std: 236.9171, Test Loss: 242.1955, Test Loss Std: 396.9726\n",
      "\n"
     ]
    },
    {
     "name": "stderr",
     "output_type": "stream",
     "text": [
      "100%|██████████| 50000/50000 [01:10<00:00, 708.41it/s]\n"
     ]
    },
    {
     "name": "stdout",
     "output_type": "stream",
     "text": [
      "Hidden units: 32, Learning Rate: 0.001, Epochs: 50000, Xavier Init\n",
      "Training Loss: 294.5496, Training Loss Std: 407.2208, Test Loss: 371.5926, Test Loss Std: 623.2153\n",
      "\n"
     ]
    },
    {
     "name": "stderr",
     "output_type": "stream",
     "text": [
      "100%|██████████| 50000/50000 [01:10<00:00, 707.79it/s]\n"
     ]
    },
    {
     "name": "stdout",
     "output_type": "stream",
     "text": [
      "Hidden units: 32, Learning Rate: 0.001, Epochs: 50000, Random Init\n",
      "Training Loss: 70.5707, Training Loss Std: 119.5264, Test Loss: 104.3811, Test Loss Std: 146.4296\n",
      "\n"
     ]
    },
    {
     "name": "stderr",
     "output_type": "stream",
     "text": [
      "100%|██████████| 100000/100000 [02:20<00:00, 713.34it/s]\n"
     ]
    },
    {
     "name": "stdout",
     "output_type": "stream",
     "text": [
      "Hidden units: 32, Learning Rate: 0.001, Epochs: 100000, Xavier Init\n",
      "Training Loss: 90.4186, Training Loss Std: 140.1013, Test Loss: 131.9885, Test Loss Std: 203.5299\n",
      "\n"
     ]
    },
    {
     "name": "stderr",
     "output_type": "stream",
     "text": [
      "100%|██████████| 100000/100000 [02:20<00:00, 710.69it/s]\n"
     ]
    },
    {
     "name": "stdout",
     "output_type": "stream",
     "text": [
      "Hidden units: 32, Learning Rate: 0.001, Epochs: 100000, Random Init\n",
      "Training Loss: 70.0230, Training Loss Std: 119.2175, Test Loss: 106.7354, Test Loss Std: 143.4273\n",
      "\n"
     ]
    },
    {
     "name": "stderr",
     "output_type": "stream",
     "text": [
      "100%|██████████| 5000/5000 [00:07<00:00, 712.42it/s]\n"
     ]
    },
    {
     "name": "stdout",
     "output_type": "stream",
     "text": [
      "Hidden units: 32, Learning Rate: 0.01, Epochs: 5000, Xavier Init\n",
      "Training Loss: 176.5631, Training Loss Std: 226.5929, Test Loss: 227.9814, Test Loss Std: 352.8323\n",
      "\n"
     ]
    },
    {
     "name": "stderr",
     "output_type": "stream",
     "text": [
      "100%|██████████| 5000/5000 [00:07<00:00, 707.00it/s]\n"
     ]
    },
    {
     "name": "stdout",
     "output_type": "stream",
     "text": [
      "Hidden units: 32, Learning Rate: 0.01, Epochs: 5000, Random Init\n",
      "Training Loss: 89.6849, Training Loss Std: 125.8878, Test Loss: 116.4831, Test Loss Std: 153.2292\n",
      "\n"
     ]
    },
    {
     "name": "stderr",
     "output_type": "stream",
     "text": [
      "100%|██████████| 10000/10000 [00:14<00:00, 707.98it/s]\n"
     ]
    },
    {
     "name": "stdout",
     "output_type": "stream",
     "text": [
      "Hidden units: 32, Learning Rate: 0.01, Epochs: 10000, Xavier Init\n",
      "Training Loss: 75.1000, Training Loss Std: 121.1819, Test Loss: 108.8336, Test Loss Std: 147.0436\n",
      "\n"
     ]
    },
    {
     "name": "stderr",
     "output_type": "stream",
     "text": [
      "100%|██████████| 10000/10000 [00:14<00:00, 707.31it/s]\n"
     ]
    },
    {
     "name": "stdout",
     "output_type": "stream",
     "text": [
      "Hidden units: 32, Learning Rate: 0.01, Epochs: 10000, Random Init\n",
      "Training Loss: 69.8237, Training Loss Std: 113.8777, Test Loss: 93.0736, Test Loss Std: 131.0220\n",
      "\n"
     ]
    },
    {
     "name": "stderr",
     "output_type": "stream",
     "text": [
      "100%|██████████| 50000/50000 [01:10<00:00, 706.68it/s]\n"
     ]
    },
    {
     "name": "stdout",
     "output_type": "stream",
     "text": [
      "Hidden units: 32, Learning Rate: 0.01, Epochs: 50000, Xavier Init\n",
      "Training Loss: 61.9505, Training Loss Std: 107.2273, Test Loss: 85.4932, Test Loss Std: 128.1866\n",
      "\n"
     ]
    },
    {
     "name": "stderr",
     "output_type": "stream",
     "text": [
      "100%|██████████| 50000/50000 [01:10<00:00, 707.56it/s]\n"
     ]
    },
    {
     "name": "stdout",
     "output_type": "stream",
     "text": [
      "Hidden units: 32, Learning Rate: 0.01, Epochs: 50000, Random Init\n",
      "Training Loss: 75.6489, Training Loss Std: 122.6499, Test Loss: 99.8130, Test Loss Std: 127.4874\n",
      "\n"
     ]
    },
    {
     "name": "stderr",
     "output_type": "stream",
     "text": [
      "100%|██████████| 100000/100000 [02:21<00:00, 708.27it/s]\n"
     ]
    },
    {
     "name": "stdout",
     "output_type": "stream",
     "text": [
      "Hidden units: 32, Learning Rate: 0.01, Epochs: 100000, Xavier Init\n",
      "Training Loss: 60.4145, Training Loss Std: 104.7722, Test Loss: 85.3200, Test Loss Std: 130.7010\n",
      "\n"
     ]
    },
    {
     "name": "stderr",
     "output_type": "stream",
     "text": [
      "100%|██████████| 100000/100000 [02:20<00:00, 711.77it/s]\n"
     ]
    },
    {
     "name": "stdout",
     "output_type": "stream",
     "text": [
      "Hidden units: 32, Learning Rate: 0.01, Epochs: 100000, Random Init\n",
      "Training Loss: 60.2415, Training Loss Std: 104.0357, Test Loss: 84.8139, Test Loss Std: 131.9694\n",
      "\n"
     ]
    },
    {
     "name": "stderr",
     "output_type": "stream",
     "text": [
      "100%|██████████| 5000/5000 [00:07<00:00, 708.02it/s]\n"
     ]
    },
    {
     "name": "stdout",
     "output_type": "stream",
     "text": [
      "Hidden units: 32, Learning Rate: 0.1, Epochs: 5000, Xavier Init\n",
      "Training Loss: 712.7317, Training Loss Std: 1972.1510, Test Loss: 1209.4135, Test Loss Std: 2684.5435\n",
      "\n"
     ]
    },
    {
     "name": "stderr",
     "output_type": "stream",
     "text": [
      "100%|██████████| 5000/5000 [00:07<00:00, 706.02it/s]\n"
     ]
    },
    {
     "name": "stdout",
     "output_type": "stream",
     "text": [
      "Hidden units: 32, Learning Rate: 0.1, Epochs: 5000, Random Init\n",
      "Training Loss: 82.4015, Training Loss Std: 133.4964, Test Loss: 99.6333, Test Loss Std: 133.8375\n",
      "\n"
     ]
    },
    {
     "name": "stderr",
     "output_type": "stream",
     "text": [
      "100%|██████████| 10000/10000 [00:14<00:00, 709.72it/s]\n"
     ]
    },
    {
     "name": "stdout",
     "output_type": "stream",
     "text": [
      "Hidden units: 32, Learning Rate: 0.1, Epochs: 10000, Xavier Init\n",
      "Training Loss: 521.8401, Training Loss Std: 1397.9094, Test Loss: 858.8559, Test Loss Std: 1790.9643\n",
      "\n"
     ]
    },
    {
     "name": "stderr",
     "output_type": "stream",
     "text": [
      "100%|██████████| 10000/10000 [00:14<00:00, 710.43it/s]\n"
     ]
    },
    {
     "name": "stdout",
     "output_type": "stream",
     "text": [
      "Hidden units: 32, Learning Rate: 0.1, Epochs: 10000, Random Init\n",
      "Training Loss: 104.9413, Training Loss Std: 175.3099, Test Loss: 159.2531, Test Loss Std: 235.3574\n",
      "\n"
     ]
    },
    {
     "name": "stderr",
     "output_type": "stream",
     "text": [
      "100%|██████████| 50000/50000 [01:10<00:00, 709.95it/s]\n"
     ]
    },
    {
     "name": "stdout",
     "output_type": "stream",
     "text": [
      "Hidden units: 32, Learning Rate: 0.1, Epochs: 50000, Xavier Init\n",
      "Training Loss: 892.0700, Training Loss Std: 2980.1431, Test Loss: 1540.0253, Test Loss Std: 4067.7143\n",
      "\n"
     ]
    },
    {
     "name": "stderr",
     "output_type": "stream",
     "text": [
      "100%|██████████| 50000/50000 [01:10<00:00, 709.66it/s]\n"
     ]
    },
    {
     "name": "stdout",
     "output_type": "stream",
     "text": [
      "Hidden units: 32, Learning Rate: 0.1, Epochs: 50000, Random Init\n",
      "Training Loss: 71.9003, Training Loss Std: 106.5966, Test Loss: 86.3545, Test Loss Std: 136.2426\n",
      "\n"
     ]
    },
    {
     "name": "stderr",
     "output_type": "stream",
     "text": [
      "100%|██████████| 100000/100000 [02:20<00:00, 711.19it/s]\n"
     ]
    },
    {
     "name": "stdout",
     "output_type": "stream",
     "text": [
      "Hidden units: 32, Learning Rate: 0.1, Epochs: 100000, Xavier Init\n",
      "Training Loss: 368.9641, Training Loss Std: 657.0631, Test Loss: 558.4799, Test Loss Std: 825.2026\n",
      "\n"
     ]
    },
    {
     "name": "stderr",
     "output_type": "stream",
     "text": [
      "100%|██████████| 100000/100000 [02:20<00:00, 712.76it/s]"
     ]
    },
    {
     "name": "stdout",
     "output_type": "stream",
     "text": [
      "Hidden units: 32, Learning Rate: 0.1, Epochs: 100000, Random Init\n",
      "Training Loss: 115.3817, Training Loss Std: 200.2420, Test Loss: 183.8269, Test Loss Std: 281.0742\n",
      "\n"
     ]
    },
    {
     "name": "stderr",
     "output_type": "stream",
     "text": [
      "\n"
     ]
    }
   ],
   "source": [
    "# Configuration\n",
    "input_size = 1\n",
    "hidden_layers = [2, 4, 8, 16, 32]\n",
    "learning_rates = [0.001, 0.01, 0.1]\n",
    "epoch_settings = [5000, 10000, 50000, 100000]\n",
    "initializations = [False, True]  # False for Xavier, True for Random\n",
    "\n",
    "\n",
    "# Model evaluation loop\n",
    "for hidden_layer_size in hidden_layers:\n",
    "    print(f\"Hidden Layer Size: {hidden_layer_size}\")\n",
    "    for lr in learning_rates:\n",
    "        for epochs in epoch_settings:\n",
    "            for init in initializations:\n",
    "                evaluate_model(hidden_layer_size, lr, epochs, init, X_train_normal, Y_train_normal, X_test_normal, Y_test_normal, False, False)\n",
    "\n"
   ]
  },
  {
   "attachments": {},
   "cell_type": "markdown",
   "metadata": {},
   "source": [
    "Question 1b)"
   ]
  },
  {
   "attachments": {},
   "cell_type": "markdown",
   "metadata": {},
   "source": [
    "Chosen configuration:\n",
    "Hidden units: 32, Learning Rate: 0.01, Epochs: 100000, Xavier Init"
   ]
  },
  {
   "cell_type": "code",
   "execution_count": 11,
   "metadata": {},
   "outputs": [
    {
     "name": "stderr",
     "output_type": "stream",
     "text": [
      "100%|██████████| 100000/100000 [02:21<00:00, 707.86it/s]"
     ]
    },
    {
     "name": "stdout",
     "output_type": "stream",
     "text": [
      "Hidden units: 32, Learning Rate: 0.01, Epochs: 100000, Xavier Init\n",
      "Training Loss: 60.2529, Training Loss Std: 105.3165, Test Loss: 85.7450, Test Loss Std: 130.7634\n",
      "\n"
     ]
    },
    {
     "name": "stderr",
     "output_type": "stream",
     "text": [
      "\n"
     ]
    },
    {
     "data": {
      "image/png": "[encoded data removed]",
      "text/plain": [
       "<Figure size 600x300 with 1 Axes>"
      ]
     },
     "metadata": {},
     "output_type": "display_data"
    },
    {
     "data": {
      "image/png": "[encoded data removed]",
      "text/plain": [
       "<Figure size 600x300 with 1 Axes>"
      ]
     },
     "metadata": {},
     "output_type": "display_data"
    }
   ],
   "source": [
    "chosen_model = evaluate_model(32, 0.01, 100000, False, X_train_normal, Y_train_normal, X_test_normal, Y_test_normal, True, False)\n"
   ]
  },
  {
   "attachments": {},
   "cell_type": "markdown",
   "metadata": {},
   "source": [
    "Question 1c)"
   ]
  },
  {
   "attachments": {},
   "cell_type": "markdown",
   "metadata": {},
   "source": [
    "Choose a configuration for each hidden layer size from part a and plot them"
   ]
  },
  {
   "cell_type": "code",
   "execution_count": 18,
   "metadata": {},
   "outputs": [
    {
     "name": "stderr",
     "output_type": "stream",
     "text": [
      "100%|██████████| 50000/50000 [00:40<00:00, 1239.61it/s]\n"
     ]
    },
    {
     "name": "stdout",
     "output_type": "stream",
     "text": [
      "Hidden units: 0, Learning Rate: 0.01, Epochs: 50000, Xavier Init\n",
      "Training Loss: 1448.8466, Training Loss Std: 1351.2800, Test Loss: 1771.2333, Test Loss Std: 1604.8085\n",
      "\n"
     ]
    },
    {
     "data": {
      "image/png": "[encoded data removed]",
      "text/plain": [
       "<Figure size 600x300 with 1 Axes>"
      ]
     },
     "metadata": {},
     "output_type": "display_data"
    }
   ],
   "source": [
    "# hidden layer size = 0\n",
    "\n",
    "chosen_model = evaluate_model(0, 0.01, 50000, False, X_train_normal, Y_train_normal, X_test_normal, Y_test_normal, True, True)"
   ]
  },
  {
   "cell_type": "code",
   "execution_count": 13,
   "metadata": {},
   "outputs": [
    {
     "name": "stderr",
     "output_type": "stream",
     "text": [
      "100%|██████████| 50000/50000 [01:10<00:00, 712.38it/s]\n"
     ]
    },
    {
     "name": "stdout",
     "output_type": "stream",
     "text": [
      "Hidden units: 2, Learning Rate: 0.01, Epochs: 50000, Xavier Init\n",
      "Training Loss: 95.1967, Training Loss Std: 139.4146, Test Loss: 109.7300, Test Loss Std: 139.9444\n",
      "\n"
     ]
    },
    {
     "data": {
      "image/png": "[encoded data removed]",
      "text/plain": [
       "<Figure size 600x300 with 1 Axes>"
      ]
     },
     "metadata": {},
     "output_type": "display_data"
    }
   ],
   "source": [
    "# hidden layer size = 2\n",
    "\n",
    "chosen_model = evaluate_model(2, 0.01, 50000, False, X_train_normal, Y_train_normal, X_test_normal, Y_test_normal, True, True)"
   ]
  },
  {
   "cell_type": "code",
   "execution_count": 14,
   "metadata": {},
   "outputs": [
    {
     "name": "stderr",
     "output_type": "stream",
     "text": [
      "100%|██████████| 50000/50000 [01:09<00:00, 722.03it/s]"
     ]
    },
    {
     "name": "stdout",
     "output_type": "stream",
     "text": [
      "Hidden units: 4, Learning Rate: 0.01, Epochs: 50000, Xavier Init\n",
      "Training Loss: 58.6930, Training Loss Std: 100.8040, Test Loss: 81.9962, Test Loss Std: 135.3791\n",
      "\n"
     ]
    },
    {
     "name": "stderr",
     "output_type": "stream",
     "text": [
      "\n"
     ]
    },
    {
     "data": {
      "image/png": "[encoded data removed]",
      "text/plain": [
       "<Figure size 600x300 with 1 Axes>"
      ]
     },
     "metadata": {},
     "output_type": "display_data"
    }
   ],
   "source": [
    "# hidden layer size = 4\n",
    "\n",
    "chosen_model = evaluate_model(4, 0.01, 50000, False, X_train_normal, Y_train_normal, X_test_normal, Y_test_normal, True, True)"
   ]
  },
  {
   "cell_type": "code",
   "execution_count": 15,
   "metadata": {},
   "outputs": [
    {
     "name": "stderr",
     "output_type": "stream",
     "text": [
      "100%|██████████| 50000/50000 [01:09<00:00, 721.01it/s]\n"
     ]
    },
    {
     "name": "stdout",
     "output_type": "stream",
     "text": [
      "Hidden units: 8, Learning Rate: 0.01, Epochs: 50000, Xavier Init\n",
      "Training Loss: 57.8878, Training Loss Std: 102.4545, Test Loss: 82.9415, Test Loss Std: 133.8103\n",
      "\n"
     ]
    },
    {
     "data": {
      "image/png": "[encoded data removed]",
      "text/plain": [
       "<Figure size 600x300 with 1 Axes>"
      ]
     },
     "metadata": {},
     "output_type": "display_data"
    }
   ],
   "source": [
    "# hidden layer size = 8\n",
    "\n",
    "chosen_model = evaluate_model(8, 0.01, 50000, False, X_train_normal, Y_train_normal, X_test_normal, Y_test_normal, True, True)"
   ]
  },
  {
   "cell_type": "code",
   "execution_count": 16,
   "metadata": {},
   "outputs": [
    {
     "name": "stderr",
     "output_type": "stream",
     "text": [
      "100%|██████████| 50000/50000 [01:10<00:00, 705.00it/s]\n"
     ]
    },
    {
     "name": "stdout",
     "output_type": "stream",
     "text": [
      "Hidden units: 16, Learning Rate: 0.01, Epochs: 50000, Xavier Init\n",
      "Training Loss: 61.0024, Training Loss Std: 107.0224, Test Loss: 85.4658, Test Loss Std: 128.7914\n",
      "\n"
     ]
    },
    {
     "data": {
      "image/png": "[encoded data removed]",
      "text/plain": [
       "<Figure size 600x300 with 1 Axes>"
      ]
     },
     "metadata": {},
     "output_type": "display_data"
    }
   ],
   "source": [
    "# hidden layer size = 16\n",
    "\n",
    "chosen_model = evaluate_model(16, 0.01, 50000, False, X_train_normal, Y_train_normal, X_test_normal, Y_test_normal, True, True)"
   ]
  },
  {
   "cell_type": "code",
   "execution_count": 17,
   "metadata": {},
   "outputs": [
    {
     "name": "stderr",
     "output_type": "stream",
     "text": [
      "100%|██████████| 50000/50000 [01:10<00:00, 707.07it/s]\n"
     ]
    },
    {
     "name": "stdout",
     "output_type": "stream",
     "text": [
      "Hidden units: 32, Learning Rate: 0.01, Epochs: 50000, Xavier Init\n",
      "Training Loss: 62.3797, Training Loss Std: 106.2808, Test Loss: 86.3040, Test Loss Std: 129.2252\n",
      "\n"
     ]
    },
    {
     "data": {
      "image/png": "[encoded data removed]",
      "text/plain": [
       "<Figure size 600x300 with 1 Axes>"
      ]
     },
     "metadata": {},
     "output_type": "display_data"
    }
   ],
   "source": [
    "# hidden layer size = 32\n",
    "\n",
    "chosen_model = evaluate_model(32, 0.01, 50000, False, X_train_normal, Y_train_normal, X_test_normal, Y_test_normal, True, True)"
   ]
  },
  {
   "cell_type": "code",
   "execution_count": null,
   "metadata": {},
   "outputs": [],
   "source": []
  }
 ],
 "metadata": {
  "kernelspec": {
   "display_name": "Python 3",
   "language": "python",
   "name": "python3"
  },
  "language_info": {
   "codemirror_mode": {
    "name": "ipython",
    "version": 3
   },
   "file_extension": ".py",
   "mimetype": "text/x-python",
   "name": "python",
   "nbconvert_exporter": "python",
   "pygments_lexer": "ipython3",
   "version": "3.11.3"
  },
  "orig_nbformat": 4
 },
 "nbformat": 4,
 "nbformat_minor": 2
}
